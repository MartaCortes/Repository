{
 "cells": [
  {
   "cell_type": "markdown",
   "metadata": {},
   "source": [
    "# PySpark program NYC taxi data"
   ]
  },
  {
   "cell_type": "markdown",
   "metadata": {},
   "source": [
    "Inizialitazion of spark: "
   ]
  },
  {
   "cell_type": "code",
   "execution_count": 1,
   "metadata": {},
   "outputs": [],
   "source": [
    "import time\n",
    "import matplotlib.pyplot as plt\n",
    "import pandas as pd\n",
    "start = time.time()\n",
    "import findspark\n",
    "findspark.init(\"/home/allsd/Downloads/spark-3.0.0-preview2-bin-hadoop2.7\")\n",
    "from pyspark.sql import SparkSession\n",
    "spark = SparkSession.builder.appName(\"prueba\").master(\"local[*]\").getOrCreate()"
   ]
  },
  {
   "cell_type": "markdown",
   "metadata": {},
   "source": [
    "Import the datasets"
   ]
  },
  {
   "cell_type": "code",
   "execution_count": 2,
   "metadata": {},
   "outputs": [],
   "source": [
    "df = spark.read.csv(\"tripdata_2017-01.csv\",\n",
    "                   header='true', \n",
    "                   inferSchema='true')\n",
    "\n",
    "df2 = spark.read.csv(\"tripdata_2017-02.csv\",\n",
    "                   header='true', \n",
    "                   inferSchema='true')\n",
    "\n",
    "zones = spark.read.csv(\"taxi+_zone_lookup.csv\",\n",
    "                   header='true', \n",
    "                   inferSchema='true')\n",
    "\n",
    "df = df.union(df2)"
   ]
  },
  {
   "cell_type": "markdown",
   "metadata": {},
   "source": [
    "Preprocessing of the data which consists in modifying the type of the column and generation of new columns by joining other tables:"
   ]
  },
  {
   "cell_type": "code",
   "execution_count": 3,
   "metadata": {},
   "outputs": [],
   "source": [
    "from pyspark.sql.types import DateType\n",
    "from pyspark.sql.functions import hour, col, to_timestamp, unix_timestamp,when, explode\n",
    "\n",
    "#Create new columns\n",
    "df = df.withColumn('tpep_pickup_datetime', to_timestamp(\"tpep_pickup_datetime\", \"yyyy-MM-dd HH:mm:ss\"))\n",
    "df = df.withColumn('tpep_dropoff_datetime', to_timestamp(\"tpep_dropoff_datetime\", \"yyyy-MM-dd HH:mm:ss\"))\n",
    "df = df.withColumn(\"hour_pickup\",hour(col(\"tpep_pickup_datetime\")))\n",
    "\n",
    "#Filter total_amount and trip_distance\n",
    "df = df.filter(df.total_amount > 0)\n",
    "df = df.filter(df.trip_distance > 0)\n",
    "\n",
    "#Join zones \n",
    "df = df.join(zones, (zones.LocationID == df.PULocationID), how = \"left\")\n",
    "columns_to_drop = ['LocationID','Zone', 'service_zone']\n",
    "df = df.drop(*columns_to_drop)\n",
    "df = df.withColumnRenamed(\"Borough\",\"PUBorough\")\n",
    "df = df.join(zones, (zones.LocationID == df.DOLocationID), how = \"left\")\n",
    "columns_to_drop = ['LocationID','Zone', 'service_zone']\n",
    "df = df.drop(*columns_to_drop)\n",
    "df = df.withColumnRenamed(\"Borough\",\"DOBorough\")\n",
    "\n",
    "df = df.withColumn('Short_Long',when(df.trip_distance >= 20,\"Long\").otherwise('Short'))\n",
    "prep_end = time.time()"
   ]
  },
  {
   "cell_type": "markdown",
   "metadata": {},
   "source": [
    "Get the average speed for each one of the trips"
   ]
  },
  {
   "cell_type": "code",
   "execution_count": 4,
   "metadata": {},
   "outputs": [],
   "source": [
    "#Calculate avg_speed for each row\n",
    "avg_speed_start = time.time()\n",
    "timeDiff = (unix_timestamp(\"tpep_dropoff_datetime\", \"yyyy-MM-dd HH:mm:ss\") - unix_timestamp(\"tpep_pickup_datetime\", \"yyyy-MM-dd HH:mm:ss\"))\n",
    "df = df.withColumn(\"trip_time\", timeDiff/3600)\n",
    "df = df.withColumn(\"avg_speed\", col(\"trip_distance\")/col(\"trip_time\"))\n",
    "df = df.filter(df.avg_speed > 0)\n",
    "df = df.filter(df.avg_speed < 150)"
   ]
  },
  {
   "cell_type": "markdown",
   "metadata": {},
   "source": [
    "Get the average speed per hour taking as reference the pickup time."
   ]
  },
  {
   "cell_type": "code",
   "execution_count": 5,
   "metadata": {},
   "outputs": [],
   "source": [
    "#rdd = df.rdd.map(lambda x : [x.hour_pickup, x.avg_speed])\n",
    "#rdd.getNumPartitions()\n",
    "\n",
    "avg_by_key = df.rdd.map(lambda x : [x.hour_pickup, x.avg_speed]) \\\n",
    "    .mapValues(lambda v: (v, 1)) \\\n",
    "    .reduceByKey(lambda a,b: (a[0]+b[0], a[1]+b[1])) \\\n",
    "    .mapValues(lambda v: v[0]/v[1])\n",
    "\n",
    "#avg_by_key.take(24)\n",
    "avg_speed_end = time.time()"
   ]
  },
  {
   "cell_type": "markdown",
   "metadata": {},
   "source": [
    "Number of trips per trajectory  and average percentage of tips over the fare amount in terms of Borough locations"
   ]
  },
  {
   "cell_type": "code",
   "execution_count": 6,
   "metadata": {},
   "outputs": [],
   "source": [
    "zone_start = time.time()\n",
    "#Number of trips by Borough and percentage of tip based on the fare_amount\n",
    "trips = df.rdd.map(lambda x: [(x.PUBorough, x.DOBorough),(x.tip_amount, x.fare_amount, 1)])\\\n",
    "    .reduceByKey(lambda a,b: (a[0]+b[0], a[1]+b[1], a[2]+b[2]))\\\n",
    "    .mapValues(lambda v: (v[0]/v[1],v[2]))\n",
    "\n",
    "#trips.take(4)\n",
    "zone_end = time.time()"
   ]
  },
  {
   "cell_type": "markdown",
   "metadata": {},
   "source": [
    "Indicators by type of journey based on distance"
   ]
  },
  {
   "cell_type": "code",
   "execution_count": 7,
   "metadata": {},
   "outputs": [],
   "source": [
    "distances_start = time.time()\n",
    "distance = df.rdd.map(lambda x: [x.Short_Long,(x.passenger_count, x.payment_type, x.trip_distance, x.fare_amount, x.tip_amount, x.tolls_amount, x.total_amount, x.avg_speed, 1)])\\\n",
    "    .reduceByKey(lambda a,b: (a[0]+b[0], a[1]+b[1], a[2]+b[2], a[3]+b[3], a[4]+b[4],a[5]+b[5], a[6]+b[6], a[7]+b[7], a[8]+b[8]))\\\n",
    "    .mapValues(lambda v: (v[0]/v[8],v[1]/v[8], v[2]/v[8], v[3]/v[8],v[4]/v[8],v[5]/v[8],v[6]/v[8], v[7]/v[8]))\n",
    "#distance.take(4)\n",
    "distances_end = time.time()"
   ]
  },
  {
   "cell_type": "raw",
   "metadata": {},
   "source": [
    "Transformation from RDD to Dataframe and plots:"
   ]
  },
  {
   "cell_type": "code",
   "execution_count": 8,
   "metadata": {},
   "outputs": [
    {
     "data": {
      "image/png": "[encoded data removed]",
      "text/plain": [
       "<Figure size 432x288 with 1 Axes>"
      ]
     },
     "metadata": {
      "needs_background": "light"
     },
     "output_type": "display_data"
    },
    {
     "name": "stderr",
     "output_type": "stream",
     "text": [
      "/home/allsd/anaconda3/lib/python3.7/site-packages/ipykernel_launcher.py:11: FutureWarning: Columnar iteration over characters will be deprecated in future releases.\n",
      "  # This is added back by InteractiveShellApp.init_path()\n",
      "/home/allsd/anaconda3/lib/python3.7/site-packages/ipykernel_launcher.py:12: FutureWarning: Columnar iteration over characters will be deprecated in future releases.\n",
      "  if sys.path[0] == '':\n"
     ]
    },
    {
     "data": {
      "image/png": "[encoded data removed]",
      "text/plain": [
       "<Figure size 432x288 with 1 Axes>"
      ]
     },
     "metadata": {},
     "output_type": "display_data"
    },
    {
     "data": {
      "image/png": "[encoded data removed]",
      "text/plain": [
       "<Figure size 432x288 with 2 Axes>"
      ]
     },
     "metadata": {
      "needs_background": "light"
     },
     "output_type": "display_data"
    }
   ],
   "source": [
    "plot_start = time.time()\n",
    "\n",
    "data = avg_by_key.toDF([\"Hour_of_pickup\", \"Average_speed\"]).toPandas() \\\n",
    "    .sort_values('Hour_of_pickup')\n",
    "\n",
    "data.plot(kind='barh', x='Hour_of_pickup', y='Average_speed')\n",
    "plt.show()\n",
    "\n",
    "data = trips.toDF([\"key\", \"value\"]).toPandas()\n",
    "\n",
    "data['PUBorough'], data['DOBorough'] = data['key'].str\n",
    "data['tip_percent'], data['count'] = data['value'].str\n",
    "\n",
    "data = data.sort_values(by=['count'],ascending = False)\n",
    "\n",
    "data['id'] = data.PUBorough + ' - ' + data.DOBorough\n",
    "\n",
    "data1 = data.drop(columns = ['key','value','tip_percent'])\n",
    "tripsg = data1.iloc[0:4]\n",
    "\n",
    "row = pd.DataFrame([['Other', 'Other', data['count'].sum() - tripsg['count'].sum(), 'Other']], \n",
    "                  columns = [\"DOBorough\", \"PUBorough\", \"count\", \"id\"])\n",
    "tripsg = tripsg.append(row)\n",
    "\n",
    "data = data.iloc[0:10]\n",
    "\n",
    "data.set_index('id')\n",
    "\n",
    "plt.pie(tripsg['count'],\n",
    "    labels=tripsg['id'],\n",
    "    explode=(0, 0.15, 0.15, 0.15, 0.15),\n",
    "    autopct='%1.1f%%',\n",
    "    )\n",
    "plt.show()\n",
    "\n",
    "fig = data.plot( kind= 'bar' , secondary_y= 'tip_percent' , rot= 90 )\n",
    "fig.set_xticklabels(data.id)\n",
    "\n",
    "plot_end = time.time()\n",
    "spark.stop()\n",
    "end = time.time()"
   ]
  },
  {
   "cell_type": "code",
   "execution_count": 9,
   "metadata": {},
   "outputs": [
    {
     "name": "stdout",
     "output_type": "stream",
     "text": [
      "Preprocessing time in pyspark: 12.9056715965271 seconds\n",
      "Average speed calculation in pyspark: 0.9677262306213379 seconds\n",
      "Number of trips by zone of travel and average of tips in pyspark: 0.028355121612548828 seconds\n",
      "Calculation of mean by type of travel in pyspark: 0.04410552978515625 seconds\n",
      "Plot time in pyspark (includes df transformation): 39.867870807647705 seconds\n",
      "Total time in pyspark: 54.58760356903076 seconds\n"
     ]
    }
   ],
   "source": [
    "print(\"Preprocessing time in pyspark: \" + str(prep_end - start) + \" seconds\")\n",
    "print(\"Average speed calculation in pyspark: \" + str(avg_speed_end - avg_speed_start) + \" seconds\")\n",
    "print(\"Number of trips by zone of travel and average of tips in pyspark: \" + str(zone_end - zone_start)+ \" seconds\")\n",
    "print(\"Calculation of mean by type of travel in pyspark: \" + str(distances_end -distances_start)+  \" seconds\")\n",
    "print(\"Plot time in pyspark (includes df transformation): \" + str(plot_end - plot_start)+ \" seconds\")\n",
    "print(\"Total time in pyspark: \" + str(end - start)+ \" seconds\")"
   ]
  }
 ],
 "metadata": {
  "kernelspec": {
   "display_name": "Python 3",
   "language": "python",
   "name": "python3"
  },
  "language_info": {
   "codemirror_mode": {
    "name": "ipython",
    "version": 3
   },
   "file_extension": ".py",
   "mimetype": "text/x-python",
   "name": "python",
   "nbconvert_exporter": "python",
   "pygments_lexer": "ipython3",
   "version": "3.7.5"
  }
 },
 "nbformat": 4,
 "nbformat_minor": 4
}
