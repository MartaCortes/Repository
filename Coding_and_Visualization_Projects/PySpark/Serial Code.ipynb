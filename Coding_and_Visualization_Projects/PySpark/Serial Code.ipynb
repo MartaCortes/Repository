{
 "cells": [
  {
   "cell_type": "markdown",
   "metadata": {},
   "source": [
    "# Serial program NYC taxi data"
   ]
  },
  {
   "cell_type": "markdown",
   "metadata": {},
   "source": [
    "Start of time for taking the sample of the run"
   ]
  },
  {
   "cell_type": "code",
   "execution_count": 1,
   "metadata": {},
   "outputs": [],
   "source": [
    "import time\n",
    "start = time.time()"
   ]
  },
  {
   "cell_type": "markdown",
   "metadata": {},
   "source": [
    "Import the datasets"
   ]
  },
  {
   "cell_type": "code",
   "execution_count": 2,
   "metadata": {},
   "outputs": [],
   "source": [
    "import pandas as pd\n",
    "import numpy as np\n",
    "from datetime import datetime\n",
    "import matplotlib.pyplot as plt\n",
    "data = pd.read_csv(\"tripdata_2017-01.csv\")\n",
    "data = data.append(pd.read_csv(\"tripdata_2017-02.csv\"), ignore_index=True)\n",
    "zones = pd.read_csv(\"taxi+_zone_lookup.csv\")"
   ]
  },
  {
   "cell_type": "markdown",
   "metadata": {},
   "source": [
    "Transform variables and create new variables"
   ]
  },
  {
   "cell_type": "code",
   "execution_count": 3,
   "metadata": {},
   "outputs": [],
   "source": [
    "to_convert=['passenger_count','RatecodeID','PULocationID','DOLocationID','payment_type']\n",
    "data[to_convert].astype('category')\n",
    "data['tpep_dropoff_datetime']= pd.to_datetime(data['tpep_dropoff_datetime'])\n",
    "data['tpep_pickup_datetime']= pd.to_datetime(data['tpep_pickup_datetime'])\n",
    "data['hour_pickup'] = data['tpep_pickup_datetime'].dt.hour\n",
    "data = data[data['total_amount']>0]\n",
    "data = data[data['trip_distance']>0]\n",
    "\n",
    "data = pd.merge(data, zones[['LocationID', 'Borough']], how='left', left_on='PULocationID',right_on = 'LocationID').rename(columns={'Borough' : 'PUBorough'})\n",
    "\n",
    "data = pd.merge(data, zones[['LocationID', 'Borough']], how='left', left_on='DOLocationID',right_on = 'LocationID').rename(columns={'Borough' : 'DOBorough'})\n",
    "\n",
    "data = data.drop(columns = ['LocationID_x','LocationID_y'])\n",
    "\n",
    "data['short/long'] = np.where(data['trip_distance']>=20, \"long\", \"short\")\n",
    "prep_end = time.time()"
   ]
  },
  {
   "cell_type": "code",
   "execution_count": 4,
   "metadata": {},
   "outputs": [],
   "source": [
    "#data"
   ]
  },
  {
   "cell_type": "markdown",
   "metadata": {},
   "source": [
    "Get the average speed for each one of the trips"
   ]
  },
  {
   "cell_type": "code",
   "execution_count": 5,
   "metadata": {},
   "outputs": [],
   "source": [
    "avg_speed_start = time.time()\n",
    "data['trip_time'] = data['tpep_dropoff_datetime'] - data['tpep_pickup_datetime']\n",
    "data['trip_time'] = data['trip_time']/ np.timedelta64(1, 'h')\n",
    "data = data[data['trip_time']>0]\n",
    "data['avg_speed'] = data['trip_distance']/data['trip_time']\n",
    "data = data[data['avg_speed']>0]\n",
    "data = data[data['avg_speed']<150]\n"
   ]
  },
  {
   "cell_type": "markdown",
   "metadata": {},
   "source": [
    "Get the average speed per hour taking as reference the pickup time."
   ]
  },
  {
   "cell_type": "code",
   "execution_count": 6,
   "metadata": {
    "scrolled": true
   },
   "outputs": [],
   "source": [
    "data1 = data.groupby(['hour_pickup']).mean().reset_index()\n",
    "avg_speed_end = time.time()\n",
    "#data1"
   ]
  },
  {
   "cell_type": "markdown",
   "metadata": {},
   "source": [
    "Number of trips per trajectory in terms of Borough locations"
   ]
  },
  {
   "cell_type": "code",
   "execution_count": 7,
   "metadata": {
    "scrolled": true
   },
   "outputs": [
    {
     "name": "stdout",
     "output_type": "stream",
     "text": [
      "PUBorough    Manhattan\n",
      "DOBorough    Manhattan\n",
      "count          1623207\n",
      "Name: 20, dtype: object\n"
     ]
    }
   ],
   "source": [
    "zones_start = time.time()\n",
    "trips = data.groupby(['PUBorough','DOBorough']).size().reset_index().rename(columns={0:'count'})\n",
    "\n",
    "trips = trips.sort_values(by=['count'],ascending = False)\n",
    "\n",
    "print(trips.loc[trips['count'].idxmax()])\n",
    "#trips"
   ]
  },
  {
   "cell_type": "markdown",
   "metadata": {},
   "source": [
    "Percentage of tips by trajectory"
   ]
  },
  {
   "cell_type": "code",
   "execution_count": 8,
   "metadata": {},
   "outputs": [],
   "source": [
    "tips = data.groupby(['PUBorough','DOBorough']).sum().reset_index().rename(columns={0:'count'})\n",
    "\n",
    "tips['tip_percent'] = tips['tip_amount']/tips['fare_amount']\n",
    "\n",
    "tips = tips[['PUBorough','DOBorough','tip_percent']]\n",
    "tips = tips.sort_values(by=['tip_percent'],ascending = True)\n",
    "\n",
    "zone_data = pd.merge(trips, tips, how='inner', on=['PUBorough','DOBorough'])\n",
    "zone_end = time.time()\n",
    "#zone_data"
   ]
  },
  {
   "cell_type": "markdown",
   "metadata": {},
   "source": [
    "Indicators by type of journey based on distance"
   ]
  },
  {
   "cell_type": "code",
   "execution_count": 9,
   "metadata": {},
   "outputs": [
    {
     "data": {
      "text/html": [
       "<div>\n",
       "<style scoped>\n",
       "    .dataframe tbody tr th:only-of-type {\n",
       "        vertical-align: middle;\n",
       "    }\n",
       "\n",
       "    .dataframe tbody tr th {\n",
       "        vertical-align: top;\n",
       "    }\n",
       "\n",
       "    .dataframe thead th {\n",
       "        text-align: right;\n",
       "    }\n",
       "</style>\n",
       "<table border=\"1\" class=\"dataframe\">\n",
       "  <thead>\n",
       "    <tr style=\"text-align: right;\">\n",
       "      <th></th>\n",
       "      <th>short/long</th>\n",
       "      <th>VendorID</th>\n",
       "      <th>passenger_count</th>\n",
       "      <th>trip_distance</th>\n",
       "      <th>RatecodeID</th>\n",
       "      <th>PULocationID</th>\n",
       "      <th>DOLocationID</th>\n",
       "      <th>payment_type</th>\n",
       "      <th>fare_amount</th>\n",
       "      <th>extra</th>\n",
       "      <th>mta_tax</th>\n",
       "      <th>tip_amount</th>\n",
       "      <th>tolls_amount</th>\n",
       "      <th>improvement_surcharge</th>\n",
       "      <th>total_amount</th>\n",
       "      <th>hour_pickup</th>\n",
       "      <th>trip_time</th>\n",
       "      <th>avg_speed</th>\n",
       "    </tr>\n",
       "  </thead>\n",
       "  <tbody>\n",
       "    <tr>\n",
       "      <th>0</th>\n",
       "      <td>long</td>\n",
       "      <td>1.600877</td>\n",
       "      <td>1.708061</td>\n",
       "      <td>22.989035</td>\n",
       "      <td>2.003758</td>\n",
       "      <td>140.855954</td>\n",
       "      <td>158.949002</td>\n",
       "      <td>1.296591</td>\n",
       "      <td>61.396366</td>\n",
       "      <td>0.411067</td>\n",
       "      <td>0.462960</td>\n",
       "      <td>8.369669</td>\n",
       "      <td>4.801358</td>\n",
       "      <td>0.299973</td>\n",
       "      <td>75.746291</td>\n",
       "      <td>14.282545</td>\n",
       "      <td>0.832498</td>\n",
       "      <td>31.223184</td>\n",
       "    </tr>\n",
       "    <tr>\n",
       "      <th>1</th>\n",
       "      <td>short</td>\n",
       "      <td>1.550314</td>\n",
       "      <td>1.637778</td>\n",
       "      <td>2.758214</td>\n",
       "      <td>1.024300</td>\n",
       "      <td>163.201864</td>\n",
       "      <td>160.835938</td>\n",
       "      <td>1.334363</td>\n",
       "      <td>12.099643</td>\n",
       "      <td>0.296339</td>\n",
       "      <td>0.498819</td>\n",
       "      <td>1.716478</td>\n",
       "      <td>0.253562</td>\n",
       "      <td>0.299997</td>\n",
       "      <td>15.168579</td>\n",
       "      <td>13.210525</td>\n",
       "      <td>0.246412</td>\n",
       "      <td>11.910746</td>\n",
       "    </tr>\n",
       "  </tbody>\n",
       "</table>\n",
       "</div>"
      ],
      "text/plain": [
       "  short/long  VendorID  passenger_count  trip_distance  RatecodeID  \\\n",
       "0       long  1.600877         1.708061      22.989035    2.003758   \n",
       "1      short  1.550314         1.637778       2.758214    1.024300   \n",
       "\n",
       "   PULocationID  DOLocationID  payment_type  fare_amount     extra   mta_tax  \\\n",
       "0    140.855954    158.949002      1.296591    61.396366  0.411067  0.462960   \n",
       "1    163.201864    160.835938      1.334363    12.099643  0.296339  0.498819   \n",
       "\n",
       "   tip_amount  tolls_amount  improvement_surcharge  total_amount  hour_pickup  \\\n",
       "0    8.369669      4.801358               0.299973     75.746291    14.282545   \n",
       "1    1.716478      0.253562               0.299997     15.168579    13.210525   \n",
       "\n",
       "   trip_time  avg_speed  \n",
       "0   0.832498  31.223184  \n",
       "1   0.246412  11.910746  "
      ]
     },
     "execution_count": 9,
     "metadata": {},
     "output_type": "execute_result"
    }
   ],
   "source": [
    "distances_start = time.time()\n",
    "distance = data.groupby(['short/long']).mean().reset_index()\n",
    "#distance"
   ]
  },
  {
   "cell_type": "code",
   "execution_count": 10,
   "metadata": {},
   "outputs": [],
   "source": [
    "distances = distance[['short/long', 'passenger_count','payment_type','trip_distance', 'fare_amount','tip_amount','tolls_amount','total_amount','avg_speed']]\n",
    "distances_end = time.time()\n",
    "#distances"
   ]
  },
  {
   "cell_type": "markdown",
   "metadata": {},
   "source": [
    "Transformations require for visalization and plots"
   ]
  },
  {
   "cell_type": "markdown",
   "metadata": {},
   "source": [
    "Plot of the average speed per hour of pickup"
   ]
  },
  {
   "cell_type": "code",
   "execution_count": 11,
   "metadata": {},
   "outputs": [
    {
     "data": {
      "text/plain": [
       "<matplotlib.axes._subplots.AxesSubplot at 0x19e1f520dc8>"
      ]
     },
     "execution_count": 11,
     "metadata": {},
     "output_type": "execute_result"
    },
    {
     "data": {
      "image/png": "[encoded data removed]",
      "text/plain": [
       "<Figure size 432x288 with 1 Axes>"
      ]
     },
     "metadata": {
      "needs_background": "light"
     },
     "output_type": "display_data"
    }
   ],
   "source": [
    "plot_start = time.time()\n",
    "speedg = data1[['hour_pickup', 'avg_speed']]\n",
    "speedg.plot.barh(x='hour_pickup', y='avg_speed', rot=0)\n"
   ]
  },
  {
   "cell_type": "markdown",
   "metadata": {},
   "source": [
    "Plot of 10 most demanded trajectories"
   ]
  },
  {
   "cell_type": "code",
   "execution_count": 12,
   "metadata": {},
   "outputs": [
    {
     "data": {
      "image/png": "[encoded data removed]",
      "text/plain": [
       "<Figure size 432x288 with 1 Axes>"
      ]
     },
     "metadata": {},
     "output_type": "display_data"
    }
   ],
   "source": [
    "trips['id'] = trips.PUBorough + ' - ' + trips.DOBorough\n",
    "tripsg = trips.iloc[0:4]\n",
    "row = pd.DataFrame([['Other', 'Other', trips['count'].sum() - tripsg['count'].sum(), 'Other']], \n",
    "                  columns = [\"DOBorough\", \"PUBorough\", \"count\", \"id\"])\n",
    "tripsg = tripsg.append(row)\n",
    "plt.pie(tripsg['count'],\n",
    "    labels=tripsg['id'],\n",
    "    explode=(0, 0.15, 0.15, 0.15, 0.15),\n",
    "    autopct='%1.1f%%',\n",
    "    )\n",
    "plt.show()"
   ]
  },
  {
   "cell_type": "markdown",
   "metadata": {},
   "source": [
    "Plot of percentage of tips"
   ]
  },
  {
   "cell_type": "code",
   "execution_count": 13,
   "metadata": {},
   "outputs": [
    {
     "data": {
      "text/html": [
       "<div>\n",
       "<style scoped>\n",
       "    .dataframe tbody tr th:only-of-type {\n",
       "        vertical-align: middle;\n",
       "    }\n",
       "\n",
       "    .dataframe tbody tr th {\n",
       "        vertical-align: top;\n",
       "    }\n",
       "\n",
       "    .dataframe thead th {\n",
       "        text-align: right;\n",
       "    }\n",
       "</style>\n",
       "<table border=\"1\" class=\"dataframe\">\n",
       "  <thead>\n",
       "    <tr style=\"text-align: right;\">\n",
       "      <th></th>\n",
       "      <th>PUBorough</th>\n",
       "      <th>DOBorough</th>\n",
       "      <th>count</th>\n",
       "      <th>tip_percent</th>\n",
       "    </tr>\n",
       "  </thead>\n",
       "  <tbody>\n",
       "    <tr>\n",
       "      <th>0</th>\n",
       "      <td>Manhattan</td>\n",
       "      <td>Manhattan</td>\n",
       "      <td>1623207</td>\n",
       "      <td>0.140910</td>\n",
       "    </tr>\n",
       "    <tr>\n",
       "      <th>1</th>\n",
       "      <td>Manhattan</td>\n",
       "      <td>Queens</td>\n",
       "      <td>61378</td>\n",
       "      <td>0.149898</td>\n",
       "    </tr>\n",
       "    <tr>\n",
       "      <th>2</th>\n",
       "      <td>Queens</td>\n",
       "      <td>Manhattan</td>\n",
       "      <td>59001</td>\n",
       "      <td>0.165497</td>\n",
       "    </tr>\n",
       "    <tr>\n",
       "      <th>3</th>\n",
       "      <td>Manhattan</td>\n",
       "      <td>Brooklyn</td>\n",
       "      <td>58047</td>\n",
       "      <td>0.143412</td>\n",
       "    </tr>\n",
       "    <tr>\n",
       "      <th>4</th>\n",
       "      <td>Unknown</td>\n",
       "      <td>Unknown</td>\n",
       "      <td>29207</td>\n",
       "      <td>0.137809</td>\n",
       "    </tr>\n",
       "    <tr>\n",
       "      <th>5</th>\n",
       "      <td>Queens</td>\n",
       "      <td>Queens</td>\n",
       "      <td>27501</td>\n",
       "      <td>0.092013</td>\n",
       "    </tr>\n",
       "    <tr>\n",
       "      <th>6</th>\n",
       "      <td>Brooklyn</td>\n",
       "      <td>Brooklyn</td>\n",
       "      <td>20064</td>\n",
       "      <td>0.125300</td>\n",
       "    </tr>\n",
       "    <tr>\n",
       "      <th>7</th>\n",
       "      <td>Queens</td>\n",
       "      <td>Brooklyn</td>\n",
       "      <td>14630</td>\n",
       "      <td>0.131777</td>\n",
       "    </tr>\n",
       "    <tr>\n",
       "      <th>8</th>\n",
       "      <td>Manhattan</td>\n",
       "      <td>Bronx</td>\n",
       "      <td>9616</td>\n",
       "      <td>0.071243</td>\n",
       "    </tr>\n",
       "    <tr>\n",
       "      <th>9</th>\n",
       "      <td>Brooklyn</td>\n",
       "      <td>Manhattan</td>\n",
       "      <td>8604</td>\n",
       "      <td>0.140157</td>\n",
       "    </tr>\n",
       "    <tr>\n",
       "      <th>10</th>\n",
       "      <td>Unknown</td>\n",
       "      <td>Manhattan</td>\n",
       "      <td>3263</td>\n",
       "      <td>0.139658</td>\n",
       "    </tr>\n",
       "    <tr>\n",
       "      <th>11</th>\n",
       "      <td>Manhattan</td>\n",
       "      <td>EWR</td>\n",
       "      <td>3088</td>\n",
       "      <td>0.162597</td>\n",
       "    </tr>\n",
       "    <tr>\n",
       "      <th>12</th>\n",
       "      <td>Manhattan</td>\n",
       "      <td>Unknown</td>\n",
       "      <td>2364</td>\n",
       "      <td>0.129465</td>\n",
       "    </tr>\n",
       "    <tr>\n",
       "      <th>13</th>\n",
       "      <td>Brooklyn</td>\n",
       "      <td>Queens</td>\n",
       "      <td>1989</td>\n",
       "      <td>0.121316</td>\n",
       "    </tr>\n",
       "    <tr>\n",
       "      <th>14</th>\n",
       "      <td>Queens</td>\n",
       "      <td>Bronx</td>\n",
       "      <td>1637</td>\n",
       "      <td>0.073840</td>\n",
       "    </tr>\n",
       "    <tr>\n",
       "      <th>15</th>\n",
       "      <td>Queens</td>\n",
       "      <td>Unknown</td>\n",
       "      <td>1508</td>\n",
       "      <td>0.120454</td>\n",
       "    </tr>\n",
       "    <tr>\n",
       "      <th>16</th>\n",
       "      <td>Bronx</td>\n",
       "      <td>Bronx</td>\n",
       "      <td>1225</td>\n",
       "      <td>0.040668</td>\n",
       "    </tr>\n",
       "    <tr>\n",
       "      <th>17</th>\n",
       "      <td>Bronx</td>\n",
       "      <td>Manhattan</td>\n",
       "      <td>601</td>\n",
       "      <td>0.052512</td>\n",
       "    </tr>\n",
       "    <tr>\n",
       "      <th>18</th>\n",
       "      <td>Manhattan</td>\n",
       "      <td>Staten Island</td>\n",
       "      <td>280</td>\n",
       "      <td>0.142145</td>\n",
       "    </tr>\n",
       "    <tr>\n",
       "      <th>19</th>\n",
       "      <td>Unknown</td>\n",
       "      <td>Queens</td>\n",
       "      <td>256</td>\n",
       "      <td>0.120549</td>\n",
       "    </tr>\n",
       "    <tr>\n",
       "      <th>20</th>\n",
       "      <td>Unknown</td>\n",
       "      <td>Brooklyn</td>\n",
       "      <td>149</td>\n",
       "      <td>0.149773</td>\n",
       "    </tr>\n",
       "    <tr>\n",
       "      <th>21</th>\n",
       "      <td>Queens</td>\n",
       "      <td>Staten Island</td>\n",
       "      <td>101</td>\n",
       "      <td>0.066887</td>\n",
       "    </tr>\n",
       "    <tr>\n",
       "      <th>22</th>\n",
       "      <td>Brooklyn</td>\n",
       "      <td>Bronx</td>\n",
       "      <td>67</td>\n",
       "      <td>0.060973</td>\n",
       "    </tr>\n",
       "    <tr>\n",
       "      <th>23</th>\n",
       "      <td>Queens</td>\n",
       "      <td>EWR</td>\n",
       "      <td>55</td>\n",
       "      <td>0.091480</td>\n",
       "    </tr>\n",
       "    <tr>\n",
       "      <th>24</th>\n",
       "      <td>Bronx</td>\n",
       "      <td>Queens</td>\n",
       "      <td>51</td>\n",
       "      <td>0.070517</td>\n",
       "    </tr>\n",
       "    <tr>\n",
       "      <th>25</th>\n",
       "      <td>Brooklyn</td>\n",
       "      <td>Unknown</td>\n",
       "      <td>49</td>\n",
       "      <td>0.193664</td>\n",
       "    </tr>\n",
       "    <tr>\n",
       "      <th>26</th>\n",
       "      <td>Unknown</td>\n",
       "      <td>Bronx</td>\n",
       "      <td>34</td>\n",
       "      <td>0.076869</td>\n",
       "    </tr>\n",
       "    <tr>\n",
       "      <th>27</th>\n",
       "      <td>Bronx</td>\n",
       "      <td>Unknown</td>\n",
       "      <td>27</td>\n",
       "      <td>0.104587</td>\n",
       "    </tr>\n",
       "    <tr>\n",
       "      <th>28</th>\n",
       "      <td>Unknown</td>\n",
       "      <td>EWR</td>\n",
       "      <td>25</td>\n",
       "      <td>0.129155</td>\n",
       "    </tr>\n",
       "    <tr>\n",
       "      <th>29</th>\n",
       "      <td>EWR</td>\n",
       "      <td>EWR</td>\n",
       "      <td>25</td>\n",
       "      <td>0.224645</td>\n",
       "    </tr>\n",
       "    <tr>\n",
       "      <th>30</th>\n",
       "      <td>Bronx</td>\n",
       "      <td>Brooklyn</td>\n",
       "      <td>23</td>\n",
       "      <td>0.077726</td>\n",
       "    </tr>\n",
       "    <tr>\n",
       "      <th>31</th>\n",
       "      <td>Brooklyn</td>\n",
       "      <td>EWR</td>\n",
       "      <td>21</td>\n",
       "      <td>0.145438</td>\n",
       "    </tr>\n",
       "    <tr>\n",
       "      <th>32</th>\n",
       "      <td>Staten Island</td>\n",
       "      <td>Staten Island</td>\n",
       "      <td>16</td>\n",
       "      <td>0.092102</td>\n",
       "    </tr>\n",
       "    <tr>\n",
       "      <th>33</th>\n",
       "      <td>Brooklyn</td>\n",
       "      <td>Staten Island</td>\n",
       "      <td>13</td>\n",
       "      <td>0.086426</td>\n",
       "    </tr>\n",
       "    <tr>\n",
       "      <th>34</th>\n",
       "      <td>Bronx</td>\n",
       "      <td>EWR</td>\n",
       "      <td>2</td>\n",
       "      <td>1.006593</td>\n",
       "    </tr>\n",
       "    <tr>\n",
       "      <th>35</th>\n",
       "      <td>EWR</td>\n",
       "      <td>Brooklyn</td>\n",
       "      <td>1</td>\n",
       "      <td>0.215827</td>\n",
       "    </tr>\n",
       "    <tr>\n",
       "      <th>36</th>\n",
       "      <td>EWR</td>\n",
       "      <td>Unknown</td>\n",
       "      <td>1</td>\n",
       "      <td>0.000000</td>\n",
       "    </tr>\n",
       "    <tr>\n",
       "      <th>37</th>\n",
       "      <td>Staten Island</td>\n",
       "      <td>Manhattan</td>\n",
       "      <td>1</td>\n",
       "      <td>0.306500</td>\n",
       "    </tr>\n",
       "    <tr>\n",
       "      <th>38</th>\n",
       "      <td>EWR</td>\n",
       "      <td>Manhattan</td>\n",
       "      <td>1</td>\n",
       "      <td>0.232609</td>\n",
       "    </tr>\n",
       "  </tbody>\n",
       "</table>\n",
       "</div>"
      ],
      "text/plain": [
       "        PUBorough      DOBorough    count  tip_percent\n",
       "0       Manhattan      Manhattan  1623207     0.140910\n",
       "1       Manhattan         Queens    61378     0.149898\n",
       "2          Queens      Manhattan    59001     0.165497\n",
       "3       Manhattan       Brooklyn    58047     0.143412\n",
       "4         Unknown        Unknown    29207     0.137809\n",
       "5          Queens         Queens    27501     0.092013\n",
       "6        Brooklyn       Brooklyn    20064     0.125300\n",
       "7          Queens       Brooklyn    14630     0.131777\n",
       "8       Manhattan          Bronx     9616     0.071243\n",
       "9        Brooklyn      Manhattan     8604     0.140157\n",
       "10        Unknown      Manhattan     3263     0.139658\n",
       "11      Manhattan            EWR     3088     0.162597\n",
       "12      Manhattan        Unknown     2364     0.129465\n",
       "13       Brooklyn         Queens     1989     0.121316\n",
       "14         Queens          Bronx     1637     0.073840\n",
       "15         Queens        Unknown     1508     0.120454\n",
       "16          Bronx          Bronx     1225     0.040668\n",
       "17          Bronx      Manhattan      601     0.052512\n",
       "18      Manhattan  Staten Island      280     0.142145\n",
       "19        Unknown         Queens      256     0.120549\n",
       "20        Unknown       Brooklyn      149     0.149773\n",
       "21         Queens  Staten Island      101     0.066887\n",
       "22       Brooklyn          Bronx       67     0.060973\n",
       "23         Queens            EWR       55     0.091480\n",
       "24          Bronx         Queens       51     0.070517\n",
       "25       Brooklyn        Unknown       49     0.193664\n",
       "26        Unknown          Bronx       34     0.076869\n",
       "27          Bronx        Unknown       27     0.104587\n",
       "28        Unknown            EWR       25     0.129155\n",
       "29            EWR            EWR       25     0.224645\n",
       "30          Bronx       Brooklyn       23     0.077726\n",
       "31       Brooklyn            EWR       21     0.145438\n",
       "32  Staten Island  Staten Island       16     0.092102\n",
       "33       Brooklyn  Staten Island       13     0.086426\n",
       "34          Bronx            EWR        2     1.006593\n",
       "35            EWR       Brooklyn        1     0.215827\n",
       "36            EWR        Unknown        1     0.000000\n",
       "37  Staten Island      Manhattan        1     0.306500\n",
       "38            EWR      Manhattan        1     0.232609"
      ]
     },
     "execution_count": 13,
     "metadata": {},
     "output_type": "execute_result"
    }
   ],
   "source": [
    "zone_data"
   ]
  },
  {
   "cell_type": "code",
   "execution_count": 14,
   "metadata": {},
   "outputs": [
    {
     "data": {
      "text/html": [
       "<div>\n",
       "<style scoped>\n",
       "    .dataframe tbody tr th:only-of-type {\n",
       "        vertical-align: middle;\n",
       "    }\n",
       "\n",
       "    .dataframe tbody tr th {\n",
       "        vertical-align: top;\n",
       "    }\n",
       "\n",
       "    .dataframe thead th {\n",
       "        text-align: right;\n",
       "    }\n",
       "</style>\n",
       "<table border=\"1\" class=\"dataframe\">\n",
       "  <thead>\n",
       "    <tr style=\"text-align: right;\">\n",
       "      <th></th>\n",
       "      <th>tip_percent</th>\n",
       "      <th>count</th>\n",
       "    </tr>\n",
       "    <tr>\n",
       "      <th>id</th>\n",
       "      <th></th>\n",
       "      <th></th>\n",
       "    </tr>\n",
       "  </thead>\n",
       "  <tbody>\n",
       "    <tr>\n",
       "      <th>Manhattan - Manhattan</th>\n",
       "      <td>0.140910</td>\n",
       "      <td>1623207</td>\n",
       "    </tr>\n",
       "    <tr>\n",
       "      <th>Manhattan - Queens</th>\n",
       "      <td>0.149898</td>\n",
       "      <td>61378</td>\n",
       "    </tr>\n",
       "    <tr>\n",
       "      <th>Queens - Manhattan</th>\n",
       "      <td>0.165497</td>\n",
       "      <td>59001</td>\n",
       "    </tr>\n",
       "    <tr>\n",
       "      <th>Manhattan - Brooklyn</th>\n",
       "      <td>0.143412</td>\n",
       "      <td>58047</td>\n",
       "    </tr>\n",
       "    <tr>\n",
       "      <th>Unknown - Unknown</th>\n",
       "      <td>0.137809</td>\n",
       "      <td>29207</td>\n",
       "    </tr>\n",
       "    <tr>\n",
       "      <th>Queens - Queens</th>\n",
       "      <td>0.092013</td>\n",
       "      <td>27501</td>\n",
       "    </tr>\n",
       "    <tr>\n",
       "      <th>Brooklyn - Brooklyn</th>\n",
       "      <td>0.125300</td>\n",
       "      <td>20064</td>\n",
       "    </tr>\n",
       "    <tr>\n",
       "      <th>Queens - Brooklyn</th>\n",
       "      <td>0.131777</td>\n",
       "      <td>14630</td>\n",
       "    </tr>\n",
       "    <tr>\n",
       "      <th>Manhattan - Bronx</th>\n",
       "      <td>0.071243</td>\n",
       "      <td>9616</td>\n",
       "    </tr>\n",
       "    <tr>\n",
       "      <th>Brooklyn - Manhattan</th>\n",
       "      <td>0.140157</td>\n",
       "      <td>8604</td>\n",
       "    </tr>\n",
       "  </tbody>\n",
       "</table>\n",
       "</div>"
      ],
      "text/plain": [
       "                       tip_percent    count\n",
       "id                                         \n",
       "Manhattan - Manhattan     0.140910  1623207\n",
       "Manhattan - Queens        0.149898    61378\n",
       "Queens - Manhattan        0.165497    59001\n",
       "Manhattan - Brooklyn      0.143412    58047\n",
       "Unknown - Unknown         0.137809    29207\n",
       "Queens - Queens           0.092013    27501\n",
       "Brooklyn - Brooklyn       0.125300    20064\n",
       "Queens - Brooklyn         0.131777    14630\n",
       "Manhattan - Bronx         0.071243     9616\n",
       "Brooklyn - Manhattan      0.140157     8604"
      ]
     },
     "execution_count": 14,
     "metadata": {},
     "output_type": "execute_result"
    }
   ],
   "source": [
    "zone_data = zone_data.sort_values(by=['count'],ascending = False)\n",
    "zone_data['id'] = zone_data.PUBorough + ' - ' + zone_data.DOBorough\n",
    "zone_data_subset = zone_data.iloc[0:10]\n",
    "zoneg = zone_data_subset[['id', 'tip_percent', 'count']]\n",
    "zoneg.set_index('id')\n",
    "#zoneg"
   ]
  },
  {
   "cell_type": "code",
   "execution_count": 15,
   "metadata": {},
   "outputs": [
    {
     "data": {
      "image/png": "[encoded data removed]",
      "text/plain": [
       "<Figure size 432x288 with 2 Axes>"
      ]
     },
     "metadata": {
      "needs_background": "light"
     },
     "output_type": "display_data"
    }
   ],
   "source": [
    "fig = zoneg.plot( kind= 'bar' , secondary_y= 'tip_percent' , rot= 90 )\n",
    "fig.set_xticklabels(zoneg.id)\n",
    "plot_end = time.time()"
   ]
  },
  {
   "cell_type": "markdown",
   "metadata": {},
   "source": [
    "Measure of times of the different parts of the code:"
   ]
  },
  {
   "cell_type": "code",
   "execution_count": 16,
   "metadata": {},
   "outputs": [
    {
     "name": "stdout",
     "output_type": "stream",
     "text": [
      "Preprocessing time in serial: 23.02477741241455 seconds\n",
      "Average speed calculation in serial: 4.1460020542144775 seconds\n",
      "Number of trips by zone of travel and average of tips: 1.8663361072540283 seconds\n",
      "Calculation of mean by type of travel: 0.993537425994873 seconds\n",
      "Plot time (includes df transformation): 2.5979676246643066 seconds\n",
      "Total time in serial: 30.252633810043335 seconds\n"
     ]
    }
   ],
   "source": [
    "print(\"Preprocessing time in serial: \" + str(prep_end - start) + \" seconds\")\n",
    "print(\"Average speed calculation in serial: \" + str(avg_speed_end - avg_speed_start) + \" seconds\")\n",
    "print(\"Number of trips by zone of travel and average of tips: \" + str(zone_end - zones_start)+ \" seconds\")\n",
    "print(\"Calculation of mean by type of travel: \" + str(distances_end -distances_start)+  \" seconds\")\n",
    "print(\"Plot time (includes df transformation): \" + str(plot_end - plot_start)+ \" seconds\")\n",
    "print(\"Total time in serial: \" + str(distances_end - start)+ \" seconds\")"
   ]
  }
 ],
 "metadata": {
  "kernelspec": {
   "display_name": "Python 3",
   "language": "python",
   "name": "python3"
  },
  "language_info": {
   "codemirror_mode": {
    "name": "ipython",
    "version": 3
   },
   "file_extension": ".py",
   "mimetype": "text/x-python",
   "name": "python",
   "nbconvert_exporter": "python",
   "pygments_lexer": "ipython3",
   "version": "3.7.6"
  }
 },
 "nbformat": 4,
 "nbformat_minor": 4
}
